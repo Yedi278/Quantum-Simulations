{
 "cells": [
  {
   "cell_type": "code",
   "execution_count": 2,
   "id": "04b2a6f0",
   "metadata": {},
   "outputs": [],
   "source": [
    "from qutip import *\n",
    "import numpy as np\n",
    "import matplotlib.pyplot as plt\n",
    "from IPython.display import display, display_latex"
   ]
  },
  {
   "cell_type": "markdown",
   "id": "e5c6fe2f",
   "metadata": {},
   "source": [
    "## Display an Object or Matrix in QuTiP"
   ]
  },
  {
   "cell_type": "code",
   "execution_count": 3,
   "id": "46ba42c9",
   "metadata": {},
   "outputs": [
    {
     "data": {
      "text/latex": [
       "Quantum object: dims=[[2], [2]], shape=(2, 2), type='oper', dtype=Dense, isherm=False$$\\left(\\begin{array}{cc}1 & 0\\\\0 & 1j\\end{array}\\right)$$"
      ],
      "text/plain": [
       "Quantum object: dims=[[2], [2]], shape=(2, 2), type='oper', dtype=Dense, isherm=False\n",
       "Qobj data =\n",
       "[[1.+0.j 0.+0.j]\n",
       " [0.+0.j 0.+1.j]]"
      ]
     },
     "metadata": {},
     "output_type": "display_data"
    },
    {
     "data": {
      "text/latex": [
       "Quantum object: dims=[[2], [2]], shape=(2, 2), type='oper', dtype=Dense, isherm=False$$\\left(\\begin{array}{cc}1 & 0\\\\0 & -1j\\end{array}\\right)$$"
      ],
      "text/plain": [
       "Quantum object: dims=[[2], [2]], shape=(2, 2), type='oper', dtype=Dense, isherm=False\n",
       "Qobj data =\n",
       "[[1.-0.j 0.-0.j]\n",
       " [0.-0.j 0.-1.j]]"
      ]
     },
     "metadata": {},
     "output_type": "display_data"
    }
   ],
   "source": [
    "obj = Qobj([[1, 0], [0, 1j]])\n",
    "\n",
    "display(obj)\n",
    "\n",
    "display(obj.dag())"
   ]
  },
  {
   "cell_type": "markdown",
   "id": "2ed5ba2b",
   "metadata": {},
   "source": [
    "## Create a ket vector in QuTiP"
   ]
  },
  {
   "cell_type": "code",
   "execution_count": 4,
   "id": "1e29228a",
   "metadata": {},
   "outputs": [
    {
     "data": {
      "text/latex": [
       "Quantum object: dims=[[2], [1]], shape=(2, 1), type='ket', dtype=Dense$$\\left(\\begin{array}{cc}1\\\\0\\end{array}\\right)$$"
      ],
      "text/plain": [
       "Quantum object: dims=[[2], [1]], shape=(2, 1), type='ket', dtype=Dense\n",
       "Qobj data =\n",
       "[[1.]\n",
       " [0.]]"
      ]
     },
     "metadata": {},
     "output_type": "display_data"
    }
   ],
   "source": [
    "vac = basis(2, 0)\n",
    "\n",
    "display(vac)"
   ]
  },
  {
   "cell_type": "markdown",
   "id": "e09f9147",
   "metadata": {},
   "source": [
    "## Create a density matrix in QuTiP"
   ]
  },
  {
   "cell_type": "code",
   "execution_count": 5,
   "id": "dae52deb",
   "metadata": {},
   "outputs": [
    {
     "data": {
      "text/latex": [
       "Quantum object: dims=[[2], [1]], shape=(2, 1), type='ket', dtype=Dense$$\\left(\\begin{array}{cc}1\\\\0\\end{array}\\right)$$"
      ],
      "text/plain": [
       "Quantum object: dims=[[2], [1]], shape=(2, 1), type='ket', dtype=Dense\n",
       "Qobj data =\n",
       "[[1.]\n",
       " [0.]]"
      ]
     },
     "metadata": {},
     "output_type": "display_data"
    },
    {
     "data": {
      "text/latex": [
       "Quantum object: dims=[[1], [2]], shape=(1, 2), type='bra', dtype=Dense$$\\left(\\begin{array}{cc}0 & 1\\end{array}\\right)$$"
      ],
      "text/plain": [
       "Quantum object: dims=[[1], [2]], shape=(1, 2), type='bra', dtype=Dense\n",
       "Qobj data =\n",
       "[[0. 1.]]"
      ]
     },
     "metadata": {},
     "output_type": "display_data"
    },
    {
     "data": {
      "text/latex": [
       "Quantum object: dims=[[2], [2]], shape=(2, 2), type='oper', dtype=Dense, isherm=False$$\\left(\\begin{array}{cc}0 & 1\\\\0 & 0\\end{array}\\right)$$"
      ],
      "text/plain": [
       "Quantum object: dims=[[2], [2]], shape=(2, 2), type='oper', dtype=Dense, isherm=False\n",
       "Qobj data =\n",
       "[[0. 1.]\n",
       " [0. 0.]]"
      ]
     },
     "metadata": {},
     "output_type": "display_data"
    }
   ],
   "source": [
    "ket = basis(2, 0)\n",
    "display(ket)\n",
    "\n",
    "bra = basis(2, 1).dag()\n",
    "display(bra)\n",
    "\n",
    "display(ket * bra)"
   ]
  },
  {
   "cell_type": "code",
   "execution_count": 16,
   "id": "5c298d15",
   "metadata": {},
   "outputs": [
    {
     "data": {
      "text/latex": [
       "Quantum object: dims=[[4], [1]], shape=(4, 1), type='ket', dtype=Dense$$\\left(\\begin{array}{cc}0\\\\0\\\\1\\\\0\\end{array}\\right)$$"
      ],
      "text/plain": [
       "Quantum object: dims=[[4], [1]], shape=(4, 1), type='ket', dtype=Dense\n",
       "Qobj data =\n",
       "[[0.]\n",
       " [0.]\n",
       " [1.]\n",
       " [0.]]"
      ]
     },
     "metadata": {},
     "output_type": "display_data"
    },
    {
     "data": {
      "text/latex": [
       "Quantum object: dims=[[4], [4]], shape=(4, 4), type='oper', dtype=Dense, isherm=True$$\\left(\\begin{array}{cc}0 & 0 & 0 & 0\\\\0 & 0 & 0 & 0\\\\0 & 0 & 1 & 0\\\\0 & 0 & 0 & 0\\end{array}\\right)$$"
      ],
      "text/plain": [
       "Quantum object: dims=[[4], [4]], shape=(4, 4), type='oper', dtype=Dense, isherm=True\n",
       "Qobj data =\n",
       "[[0. 0. 0. 0.]\n",
       " [0. 0. 0. 0.]\n",
       " [0. 0. 1. 0.]\n",
       " [0. 0. 0. 0.]]"
      ]
     },
     "metadata": {},
     "output_type": "display_data"
    }
   ],
   "source": [
    "psi = basis(4,2)\n",
    "display(psi)\n",
    "\n",
    "rho = psi * psi.dag()\n",
    "\n",
    "display(rho)"
   ]
  },
  {
   "cell_type": "code",
   "execution_count": 33,
   "id": "bc9d60fa",
   "metadata": {},
   "outputs": [
    {
     "name": "stdout",
     "output_type": "stream",
     "text": [
      "2.0076\n"
     ]
    }
   ],
   "source": [
    "mat = np.eye(4)\n",
    "np.trace(mat)\n",
    "\n",
    "mat2 = np.random.randint(0,2, (4,4))\n",
    "mat2\n",
    "\n",
    "out=0\n",
    "for i in range(10000):\n",
    "    out += np.trace( np.random.randint(0, 2, (4,4)) )\n",
    "\n",
    "print(out/10000)"
   ]
  }
 ],
 "metadata": {
  "kernelspec": {
   "display_name": ".venv",
   "language": "python",
   "name": "python3"
  },
  "language_info": {
   "codemirror_mode": {
    "name": "ipython",
    "version": 3
   },
   "file_extension": ".py",
   "mimetype": "text/x-python",
   "name": "python",
   "nbconvert_exporter": "python",
   "pygments_lexer": "ipython3",
   "version": "3.12.9"
  }
 },
 "nbformat": 4,
 "nbformat_minor": 5
}
