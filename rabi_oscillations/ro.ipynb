{
 "cells": [
  {
   "cell_type": "code",
   "execution_count": 15,
   "id": "31c6ceb2",
   "metadata": {},
   "outputs": [],
   "source": [
    "import numpy as np\n",
    "import matplotlib.pyplot as plt\n",
    "from IPython.display import display, display_latex\n",
    "\n",
    "from qutip import sigmaz, sigmax\n",
    "from qutip.measurement import measure_observable"
   ]
  },
  {
   "cell_type": "markdown",
   "id": "4608aa69",
   "metadata": {},
   "source": [
    "Hamiltonian of a single Qubit in a Closed System:\n",
    "\n",
    "$ H_{lab} = \\frac{\\hbar \\omega_q}{2} \\sigma_z + \\hbar \\Omega_d cos(\\omega_d t + \\phi) \\sigma_x $\n",
    "\n",
    "where :\n",
    "\n",
    "* $\\frac{\\hbar \\omega_q}{2} \\sigma_z $ is the Hamiltonian of the single qubit\n",
    "\n",
    "* $\\hbar \\Omega_d cos(\\omega_d t + \\phi) \\sigma_x $ is the driving external oscillator"
   ]
  },
  {
   "cell_type": "code",
   "execution_count": 11,
   "id": "1a437e0d",
   "metadata": {},
   "outputs": [],
   "source": [
    "# Hamiltonian for Rabi Oscillations on two-level qubit system\n",
    "\n",
    "hbar = 1.0\n",
    "w_q = 1.0  # qubit frequency\n",
    "W_d = 1.0  # driving frequency\n",
    "t = 0\n",
    "phi = 0\n",
    "\n",
    "def H_lab(t, phi):\n",
    "    \"\"\"Time-dependent Hamiltonian for Rabi oscillations.\"\"\"\n",
    "    return 0.5 * hbar * w_q * sigmaz() + 0.5 * hbar * W_d * np.cos( w_q * t + phi ) * sigmax()"
   ]
  },
  {
   "cell_type": "code",
   "execution_count": null,
   "id": "dbe4e801",
   "metadata": {},
   "outputs": [],
   "source": [
    "# time = np.linspace(0, 1, 3)\n",
    "# eigenstates = []\n",
    "# eigenenergies = []\n",
    "\n",
    "# for t in time:\n",
    "#     H = H_lab(t, phi)\n",
    "#     eigenstates.append(H.eigenstates()[0])\n",
    "#     eigenenergies.append(H.eigenstates()[1])\n",
    "\n",
    "# eigenstates = np.array(eigenstates)\n",
    "# eigenenergies = np.array(eigenenergies)"
   ]
  },
  {
   "cell_type": "code",
   "execution_count": 50,
   "id": "44e4c31b",
   "metadata": {},
   "outputs": [
    {
     "data": {
      "text/latex": [
       "Quantum object: dims=[[2], [1]], shape=(2, 1), type='ket', dtype=Dense$$\\left(\\begin{array}{cc}-0.969\\\\-0.245\\end{array}\\right)$$"
      ],
      "text/plain": [
       "Quantum object: dims=[[2], [1]], shape=(2, 1), type='ket', dtype=Dense\n",
       "Qobj data =\n",
       "[[-0.9694829 ]\n",
       " [-0.24515895]]"
      ]
     },
     "execution_count": 50,
     "metadata": {},
     "output_type": "execute_result"
    }
   ],
   "source": []
  },
  {
   "cell_type": "code",
   "execution_count": 16,
   "id": "0debfe58",
   "metadata": {},
   "outputs": [],
   "source": [
    "# Hamiltonian for Rabi oscillations in the rotating frame\n",
    "def H_rot(t, phi):\n",
    "    \"\"\"Hamiltonian in the rotating frame.\"\"\"\n",
    "    return 0.5 * hbar * (w_q - W_d) * sigmaz() + 0.5 * hbar * W_d * np.cos( w_q * t + phi ) * sigmax()"
   ]
  }
 ],
 "metadata": {
  "kernelspec": {
   "display_name": ".venv",
   "language": "python",
   "name": "python3"
  },
  "language_info": {
   "codemirror_mode": {
    "name": "ipython",
    "version": 3
   },
   "file_extension": ".py",
   "mimetype": "text/x-python",
   "name": "python",
   "nbconvert_exporter": "python",
   "pygments_lexer": "ipython3",
   "version": "3.12.9"
  }
 },
 "nbformat": 4,
 "nbformat_minor": 5
}
