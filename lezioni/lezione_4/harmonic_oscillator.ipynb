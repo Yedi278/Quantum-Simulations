{
 "cells": [
  {
   "cell_type": "markdown",
   "id": "9e7bba86",
   "metadata": {},
   "source": [
    "# Simple Quantum Harmonic Oscillator in QuTiP\n",
    "\n",
    "**Objective:**\n",
    "Simulate a harmonic oscillator, display eigen-values and eigenvectors, calculate and plot the time evolution by solding the differential equations numerically"
   ]
  },
  {
   "cell_type": "code",
   "execution_count": 66,
   "id": "0e7325ba",
   "metadata": {},
   "outputs": [],
   "source": [
    "# from qutip.ipynbtools import version_table; version_table()\n",
    "from qutip import basis, expect, Qobj, sigmax, sigmaz, sigmay, identity\n",
    "from qutip import create, destroy\n",
    "from qutip import mesolve, Options\n",
    "from math import pi, sqrt, exp\n",
    "import numpy as np\n",
    "import matplotlib.pyplot as plt\n",
    "\n",
    "from IPython.display import display, display_latex\n",
    "\n",
    "# Define constants\n",
    "hbar = 1.0  # reduced Planck's constant [a.u.] \n",
    "w = 2.0 * pi  # Frequency of the harmonic oscillator [Rad/s]\n",
    "m = 1.0     # Mass of the harmonic oscillator [a.u.]"
   ]
  },
  {
   "cell_type": "markdown",
   "id": "7c2a985e",
   "metadata": {},
   "source": [
    "The Harmonic Oscillator's Hamiltonian can be written with Dirac's method by using the ladder operators:\n",
    "\n",
    "$$ H = \\hbar \\omega ( a^\\dag a + \\frac{1}{2} )$$\n",
    "\n",
    "where $a$ and $a^\\dag$ are the ladder operators.\n",
    "N = $a^\\dag a$ is the number operator and it maps the eigenvalues and eigenvectors in order {0, 1, 2, 3, ...}\n",
    "by using the properties of the Number operator we can obtain the ladder op eigenvalues\n",
    "\n",
    "$a$ and $a^\\dag$ are defined by : \n",
    "\n",
    "* $ a\\ket{n} = \\sqrt{n} \\ket{n-1}$\n",
    "\n",
    "* $ a^\\dag\\ket{n} = \\sqrt{n+1} \\ket{n+1}$\n"
   ]
  },
  {
   "cell_type": "markdown",
   "id": "f33e4b5e",
   "metadata": {},
   "source": [
    "$a \\ket{0} = 0$\n",
    "\n",
    "$a \\ket{1} = \\ket{0} $\n",
    "\n",
    "$a^\\dag \\ket{0} = \\ket{1}$\n",
    "\n",
    "$a^\\dag \\ket{1} = \\sqrt{2}\\ket{2} $\n",
    "\n"
   ]
  },
  {
   "cell_type": "code",
   "execution_count": 67,
   "id": "e310e5b7",
   "metadata": {},
   "outputs": [
    {
     "data": {
      "text/latex": [
       "Quantum object: dims=[[2], [2]], shape=(2, 2), type='oper', dtype=Dia, isherm=False$$\\left(\\begin{array}{cc}0 & 1\\\\0 & 0\\end{array}\\right)$$"
      ],
      "text/plain": [
       "Quantum object: dims=[[2], [2]], shape=(2, 2), type='oper', dtype=Dia, isherm=False\n",
       "Qobj data =\n",
       "[[0. 1.]\n",
       " [0. 0.]]"
      ]
     },
     "metadata": {},
     "output_type": "display_data"
    },
    {
     "data": {
      "text/latex": [
       "Quantum object: dims=[[2], [2]], shape=(2, 2), type='oper', dtype=Dia, isherm=False$$\\left(\\begin{array}{cc}0 & 0\\\\1 & 0\\end{array}\\right)$$"
      ],
      "text/plain": [
       "Quantum object: dims=[[2], [2]], shape=(2, 2), type='oper', dtype=Dia, isherm=False\n",
       "Qobj data =\n",
       "[[0. 0.]\n",
       " [1. 0.]]"
      ]
     },
     "metadata": {},
     "output_type": "display_data"
    }
   ],
   "source": [
    "n = 2  # Number of states in the Hilbert space\n",
    "\n",
    "a = destroy(n)   # Creation operator\n",
    "\n",
    "display(a, a.dag())"
   ]
  },
  {
   "cell_type": "code",
   "execution_count": 68,
   "id": "3b7d1c11",
   "metadata": {},
   "outputs": [
    {
     "data": {
      "text/latex": [
       "Quantum object: dims=[[2], [2]], shape=(2, 2), type='oper', dtype=Dia, isherm=True$$\\left(\\begin{array}{cc}0 & 0\\\\0 & 1\\end{array}\\right)$$"
      ],
      "text/plain": [
       "Quantum object: dims=[[2], [2]], shape=(2, 2), type='oper', dtype=Dia, isherm=True\n",
       "Qobj data =\n",
       "[[0. 0.]\n",
       " [0. 1.]]"
      ]
     },
     "metadata": {},
     "output_type": "display_data"
    }
   ],
   "source": [
    "N = a.dag() * a  # Number operator\n",
    "\n",
    "display(N)"
   ]
  },
  {
   "cell_type": "code",
   "execution_count": 93,
   "id": "db539bb2",
   "metadata": {},
   "outputs": [
    {
     "data": {
      "text/latex": [
       "Quantum object: dims=[[2], [2]], shape=(2, 2), type='oper', dtype=Dia, isherm=True$$\\left(\\begin{array}{cc}3.142 & 0\\\\0 & 9.425\\end{array}\\right)$$"
      ],
      "text/plain": [
       "Quantum object: dims=[[2], [2]], shape=(2, 2), type='oper', dtype=Dia, isherm=True\n",
       "Qobj data =\n",
       "[[3.14159265 0.        ]\n",
       " [0.         9.42477796]]"
      ]
     },
     "metadata": {},
     "output_type": "display_data"
    },
    {
     "data": {
      "text/latex": [
       "Quantum object: dims=[[2], [1]], shape=(2, 1), type='ket', dtype=Dense$$\\left(\\begin{array}{cc}1\\\\0\\end{array}\\right)$$"
      ],
      "text/plain": [
       "Quantum object: dims=[[2], [1]], shape=(2, 1), type='ket', dtype=Dense\n",
       "Qobj data =\n",
       "[[1.]\n",
       " [0.]]"
      ]
     },
     "metadata": {},
     "output_type": "display_data"
    }
   ],
   "source": [
    "# hamiltonian of the harmonic oscillator\n",
    "H = hbar * w * (N + 0.5 * identity(n))\n",
    "\n",
    "display(H)\n",
    "\n",
    "# Define the initial state (ground state of the harmonic oscillator)\n",
    "psi0 = basis(n, 0)  # Ground state |0>\n",
    "\n",
    "display(psi0)"
   ]
  },
  {
   "cell_type": "code",
   "execution_count": 121,
   "id": "0ebb55c3",
   "metadata": {},
   "outputs": [
    {
     "name": "stderr",
     "output_type": "stream",
     "text": [
      "c:\\Users\\yehan\\Documents\\Programming\\Quantum-Simulations\\.venv\\Lib\\site-packages\\qutip\\solver\\options.py:16: FutureWarning: Dedicated options class are no longer needed, options should be passed as dict to solvers.\n",
      "  warnings.warn(\n"
     ]
    },
    {
     "data": {
      "image/png": "[encoded data removed]",
      "text/plain": [
       "<Figure size 640x480 with 1 Axes>"
      ]
     },
     "metadata": {},
     "output_type": "display_data"
    }
   ],
   "source": [
    "tlist = np.linspace(0, 10, 100)  # Time list for the simulation\n",
    "\n",
    "# solve the time-dependent Schrödinger equation using mesolve\n",
    "output = mesolve(H, psi0, tlist, e_ops=[sigmaz()], options=Options(nsteps=1000))\n",
    "\n",
    "plt.title(\"Expectation values\")\n",
    "plt.plot(tlist, output.expect[0], label=\"N\")\n",
    "plt.xlabel(\"Time\")\n",
    "plt.ylabel(\"Expectation value\")\n",
    "plt.legend()\n",
    "plt.grid()\n",
    "plt.show()"
   ]
  }
 ],
 "metadata": {
  "kernelspec": {
   "display_name": ".venv",
   "language": "python",
   "name": "python3"
  },
  "language_info": {
   "codemirror_mode": {
    "name": "ipython",
    "version": 3
   },
   "file_extension": ".py",
   "mimetype": "text/x-python",
   "name": "python",
   "nbconvert_exporter": "python",
   "pygments_lexer": "ipython3",
   "version": "3.12.9"
  }
 },
 "nbformat": 4,
 "nbformat_minor": 5
}
