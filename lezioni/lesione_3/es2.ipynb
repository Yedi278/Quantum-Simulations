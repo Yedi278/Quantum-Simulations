{
 "cells": [
  {
   "cell_type": "markdown",
   "id": "925cfa1c",
   "metadata": {},
   "source": [
    "<h1> Exercise n°2 from Lecture 3"
   ]
  }
 ],
 "metadata": {
  "language_info": {
   "name": "python"
  }
 },
 "nbformat": 4,
 "nbformat_minor": 5
}
