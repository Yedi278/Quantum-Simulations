{
 "cells": [
  {
   "cell_type": "markdown",
   "id": "41bfbbb0",
   "metadata": {},
   "source": [
    "# Using Surface Codes for error correction on qubits"
   ]
  },
  {
   "cell_type": "markdown",
   "id": "2b9f8865",
   "metadata": {},
   "source": [
    "The Bell states are specific quantum states of two qubits that represent the simplest examples of quantum entanglement. They are given by:\n",
    "\n",
    "\\begin{aligned}\n",
    "\\lvert \\Phi^+ \\rangle &= \\frac{1}{\\sqrt{2}} (\\lvert 00 \\rangle + \\lvert 11 \\rangle) \\\\\n",
    "\\lvert \\Phi^- \\rangle &= \\frac{1}{\\sqrt{2}} (\\lvert 00 \\rangle - \\lvert 11 \\rangle) \\\\\n",
    "\\lvert \\Psi^+ \\rangle &= \\frac{1}{\\sqrt{2}} (\\lvert 01 \\rangle + \\lvert 10 \\rangle) \\\\\n",
    "\\lvert \\Psi^- \\rangle &= \\frac{1}{\\sqrt{2}} (\\lvert 01 \\rangle - \\lvert 10 \\rangle)\n",
    "\\end{aligned}\n",
    "\n",
    "\n",
    "The parity of the states can be defined as follows:\n",
    "\\begin{aligned}\n",
    "\\text{Parity}(\\lvert \\Phi^+ \\rangle) &= +1 \\\\\n",
    "\\text{Parity}(\\lvert \\Phi^- \\rangle) &= -1 \\\\\n",
    "\\text{Parity}(\\lvert \\Psi^+ \\rangle) &= -1 \\\\\n",
    "\\text{Parity}(\\lvert \\Psi^- \\rangle) &= +1\n",
    "\\end{aligned}\n"
   ]
  }
 ],
 "metadata": {
  "kernelspec": {
   "display_name": ".venv",
   "language": "python",
   "name": "python3"
  },
  "language_info": {
   "name": "python",
   "version": "3.12.9"
  }
 },
 "nbformat": 4,
 "nbformat_minor": 5
}
